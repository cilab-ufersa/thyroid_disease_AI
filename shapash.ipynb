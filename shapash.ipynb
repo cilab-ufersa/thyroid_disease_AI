{
 "cells": [
  {
   "cell_type": "code",
   "execution_count": 1,
   "metadata": {},
   "outputs": [
    {
     "name": "stderr",
     "output_type": "stream",
     "text": [
      "IProgress not found. Please update jupyter and ipywidgets. See https://ipywidgets.readthedocs.io/en/stable/user_install.html\n",
      "c:\\Users\\caiom\\Desktop\\Sist Hypo\\thyroid_disease_AI\\cilab\\Lib\\site-packages\\sklearn\\base.py:457: UserWarning:\n",
      "\n",
      "X has feature names, but GradientBoostingClassifier was fitted without feature names\n",
      "\n",
      "c:\\Users\\caiom\\Desktop\\Sist Hypo\\thyroid_disease_AI\\cilab\\Lib\\site-packages\\sklearn\\base.py:457: UserWarning:\n",
      "\n",
      "X has feature names, but ExtraTreesClassifier was fitted without feature names\n",
      "\n",
      "c:\\Users\\caiom\\Desktop\\Sist Hypo\\thyroid_disease_AI\\cilab\\Lib\\site-packages\\sklearn\\base.py:457: UserWarning:\n",
      "\n",
      "X has feature names, but DecisionTreeClassifier was fitted without feature names\n",
      "\n"
     ]
    },
    {
     "name": "stdout",
     "output_type": "stream",
     "text": [
      "INFO: Shap explainer type - <shap.explainers._exact.ExactExplainer object at 0x0000015883D73F50>\n"
     ]
    },
    {
     "name": "stderr",
     "output_type": "stream",
     "text": [
      "c:\\Users\\caiom\\Desktop\\Sist Hypo\\thyroid_disease_AI\\cilab\\Lib\\site-packages\\sklearn\\base.py:457: UserWarning:\n",
      "\n",
      "X has feature names, but GradientBoostingClassifier was fitted without feature names\n",
      "\n",
      "c:\\Users\\caiom\\Desktop\\Sist Hypo\\thyroid_disease_AI\\cilab\\Lib\\site-packages\\sklearn\\base.py:457: UserWarning:\n",
      "\n",
      "X has feature names, but ExtraTreesClassifier was fitted without feature names\n",
      "\n",
      "c:\\Users\\caiom\\Desktop\\Sist Hypo\\thyroid_disease_AI\\cilab\\Lib\\site-packages\\sklearn\\base.py:457: UserWarning:\n",
      "\n",
      "X has feature names, but DecisionTreeClassifier was fitted without feature names\n",
      "\n"
     ]
    }
   ],
   "source": [
    "import joblib\n",
    "import pandas as pd\n",
    "from shapash.explainer.smart_explainer import SmartExplainer\n",
    "\n",
    "# Carregando o modelo\n",
    "model_final = 'C:\\\\Users\\\\caiom\\\\Desktop\\\\Sist Hypo\\\\thyroid_disease_AI\\\\thyroid_disease_AI\\\\models_file\\\\StackingModel.sav'\n",
    "model = joblib.load(model_final)\n",
    "\n",
    "# Carregando os dados\n",
    "input_train_path = 'C:\\\\Users\\\\caiom\\\\Desktop\\\\Sist Hypo\\\\thyroid_disease_AI\\\\thyroid_disease_AI\\\\datasets\\\\hypothyroid\\\\input_train.csv'\n",
    "output_train_path = 'C:\\\\Users\\\\caiom\\\\Desktop\\\\Sist Hypo\\\\thyroid_disease_AI\\\\thyroid_disease_AI\\\\datasets\\\\hypothyroid\\\\output_train.csv'\n",
    "input_test_path = 'C:\\\\Users\\\\caiom\\\\Desktop\\\\Sist Hypo\\\\thyroid_disease_AI\\\\thyroid_disease_AI\\\\datasets\\\\hypothyroid\\\\input_test.csv'\n",
    "output_test_path = 'C:\\\\Users\\\\caiom\\\\Desktop\\\\Sist Hypo\\\\thyroid_disease_AI\\\\thyroid_disease_AI\\\\datasets\\\\hypothyroid\\\\output_test.csv'\n",
    "\n",
    "input_train = pd.read_csv(input_train_path)\n",
    "output_train = pd.read_csv(output_train_path)\n",
    "input_test = pd.read_csv(input_test_path)\n",
    "output_test = pd.read_csv(output_test_path)\n",
    "\n",
    "# Criando o objeto SmartExplainer\n",
    "xpl = SmartExplainer(model=model)\n",
    "xpl.compile(\n",
    "    input_train,\n",
    "    y_pred=pd.Series(model.predict(input_train), index=input_train.index),  # y_pred deve ser uma Series\n",
    "    y_target=output_train,\n",
    ")\n",
    "\n",
    "xpl.plot.features_importance() # Visualizando informações sobre o modelo\n",
    "xpl.plot.local_plot(index=0) # Interpreta as previsões individuais\n",
    "xpl.run_app(host='127.0.0.1') # Execute o aplicativo Shapash\n"
   ]
  }
 ],
 "metadata": {
  "kernelspec": {
   "display_name": "cilab",
   "language": "python",
   "name": "python3"
  },
  "language_info": {
   "codemirror_mode": {
    "name": "ipython",
    "version": 3
   },
   "file_extension": ".py",
   "mimetype": "text/x-python",
   "name": "python",
   "nbconvert_exporter": "python",
   "pygments_lexer": "ipython3",
   "version": "3.11.7"
  }
 },
 "nbformat": 4,
 "nbformat_minor": 2
}
