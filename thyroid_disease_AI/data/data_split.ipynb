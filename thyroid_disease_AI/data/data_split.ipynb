{
 "cells": [
  {
   "cell_type": "code",
   "execution_count": 28,
   "metadata": {},
   "outputs": [],
   "source": [
    "import pandas as pd\n",
    "from sklearn.model_selection import train_test_split"
   ]
  },
  {
   "cell_type": "code",
   "execution_count": 29,
   "metadata": {},
   "outputs": [
    {
     "data": {
      "text/html": [
       "<div>\n",
       "<style scoped>\n",
       "    .dataframe tbody tr th:only-of-type {\n",
       "        vertical-align: middle;\n",
       "    }\n",
       "\n",
       "    .dataframe tbody tr th {\n",
       "        vertical-align: top;\n",
       "    }\n",
       "\n",
       "    .dataframe thead th {\n",
       "        text-align: right;\n",
       "    }\n",
       "</style>\n",
       "<table border=\"1\" class=\"dataframe\">\n",
       "  <thead>\n",
       "    <tr style=\"text-align: right;\">\n",
       "      <th></th>\n",
       "      <th>TT4</th>\n",
       "      <th>FTI</th>\n",
       "      <th>T3</th>\n",
       "      <th>TSH</th>\n",
       "      <th>T4U</th>\n",
       "      <th>pregnant</th>\n",
       "      <th>I131 treatment</th>\n",
       "      <th>binaryClass</th>\n",
       "    </tr>\n",
       "  </thead>\n",
       "  <tbody>\n",
       "    <tr>\n",
       "      <th>0</th>\n",
       "      <td>125</td>\n",
       "      <td>109</td>\n",
       "      <td>2.5</td>\n",
       "      <td>1.3</td>\n",
       "      <td>1.14</td>\n",
       "      <td>f</td>\n",
       "      <td>f</td>\n",
       "      <td>P</td>\n",
       "    </tr>\n",
       "    <tr>\n",
       "      <th>1</th>\n",
       "      <td>102</td>\n",
       "      <td>?</td>\n",
       "      <td>2</td>\n",
       "      <td>4.1</td>\n",
       "      <td>?</td>\n",
       "      <td>f</td>\n",
       "      <td>f</td>\n",
       "      <td>P</td>\n",
       "    </tr>\n",
       "    <tr>\n",
       "      <th>2</th>\n",
       "      <td>109</td>\n",
       "      <td>120</td>\n",
       "      <td>?</td>\n",
       "      <td>0.98</td>\n",
       "      <td>0.91</td>\n",
       "      <td>f</td>\n",
       "      <td>f</td>\n",
       "      <td>P</td>\n",
       "    </tr>\n",
       "    <tr>\n",
       "      <th>3</th>\n",
       "      <td>175</td>\n",
       "      <td>?</td>\n",
       "      <td>1.9</td>\n",
       "      <td>0.16</td>\n",
       "      <td>?</td>\n",
       "      <td>f</td>\n",
       "      <td>f</td>\n",
       "      <td>P</td>\n",
       "    </tr>\n",
       "    <tr>\n",
       "      <th>4</th>\n",
       "      <td>61</td>\n",
       "      <td>70</td>\n",
       "      <td>1.2</td>\n",
       "      <td>0.72</td>\n",
       "      <td>0.87</td>\n",
       "      <td>f</td>\n",
       "      <td>f</td>\n",
       "      <td>P</td>\n",
       "    </tr>\n",
       "  </tbody>\n",
       "</table>\n",
       "</div>"
      ],
      "text/plain": [
       "   TT4  FTI   T3   TSH   T4U pregnant I131 treatment binaryClass\n",
       "0  125  109  2.5   1.3  1.14        f              f           P\n",
       "1  102    ?    2   4.1     ?        f              f           P\n",
       "2  109  120    ?  0.98  0.91        f              f           P\n",
       "3  175    ?  1.9  0.16     ?        f              f           P\n",
       "4   61   70  1.2  0.72  0.87        f              f           P"
      ]
     },
     "execution_count": 29,
     "metadata": {},
     "output_type": "execute_result"
    }
   ],
   "source": [
    "# Abrindo dataset\n",
    "dataset = pd.read_csv('/workspaces/thyroid_disease_AI/thyroid_disease_AI/datasets/hypothyroid/hypothyroid.csv')\n",
    "\n",
    "# Selecionando features escolhidas\n",
    "select_features = ['TT4', 'FTI', 'T3', 'TSH', 'T4U', 'pregnant', 'I131 treatment', 'binaryClass']\n",
    "dataset = dataset[select_features]\n",
    "dataset.head()"
   ]
  },
  {
   "cell_type": "code",
   "execution_count": 30,
   "metadata": {},
   "outputs": [
    {
     "name": "stdout",
     "output_type": "stream",
     "text": [
      "<class 'pandas.core.frame.DataFrame'>\n",
      "RangeIndex: 3772 entries, 0 to 3771\n",
      "Data columns (total 8 columns):\n",
      " #   Column          Non-Null Count  Dtype \n",
      "---  ------          --------------  ----- \n",
      " 0   TT4             3772 non-null   object\n",
      " 1   FTI             3772 non-null   object\n",
      " 2   T3              3772 non-null   object\n",
      " 3   TSH             3772 non-null   object\n",
      " 4   T4U             3772 non-null   object\n",
      " 5   pregnant        3772 non-null   object\n",
      " 6   I131 treatment  3772 non-null   object\n",
      " 7   binaryClass     3772 non-null   object\n",
      "dtypes: object(8)\n",
      "memory usage: 235.9+ KB\n"
     ]
    }
   ],
   "source": [
    "dataset.info()"
   ]
  },
  {
   "cell_type": "code",
   "execution_count": 31,
   "metadata": {},
   "outputs": [
    {
     "data": {
      "text/plain": [
       "TT4               231\n",
       "FTI               385\n",
       "T3                769\n",
       "TSH               369\n",
       "T4U               387\n",
       "pregnant            0\n",
       "I131 treatment      0\n",
       "binaryClass         0\n",
       "dtype: int64"
      ]
     },
     "execution_count": 31,
     "metadata": {},
     "output_type": "execute_result"
    }
   ],
   "source": [
    "# Verificando quando a dados faltantes '?'\n",
    "dataset[dataset == '?'].count()"
   ]
  },
  {
   "cell_type": "code",
   "execution_count": 34,
   "metadata": {},
   "outputs": [
    {
     "data": {
      "text/plain": [
       "binaryClass\n",
       "P    3481\n",
       "N     291\n",
       "Name: count, dtype: int64"
      ]
     },
     "execution_count": 34,
     "metadata": {},
     "output_type": "execute_result"
    }
   ],
   "source": [
    "dataset['binaryClass'].value_counts()"
   ]
  },
  {
   "cell_type": "code",
   "execution_count": null,
   "metadata": {},
   "outputs": [],
   "source": [
    "output_label = dataset['binaryClass']\n",
    "dataset.drop('binaryClass', axis=1, inplace=True)"
   ]
  },
  {
   "cell_type": "code",
   "execution_count": null,
   "metadata": {},
   "outputs": [
    {
     "name": "stdout",
     "output_type": "stream",
     "text": [
      "Output Train Class Counts:\n",
      "binaryClass\n",
      "P    2784\n",
      "N     233\n",
      "Name: count, dtype: int64\n",
      "\n",
      "Output Test Class Counts:\n",
      "binaryClass\n",
      "P    697\n",
      "N     58\n",
      "Name: count, dtype: int64\n"
     ]
    }
   ],
   "source": [
    "# dividir os dados em 80% treino e 20% teste\n",
    "input_train, input_test, output_train, output_test = train_test_split(dataset, output_label, test_size=0.2, random_state=24, stratify=output_label)\n",
    "\n",
    "output_train_counts = output_train.value_counts()\n",
    "output_test_counts = output_test.value_counts()\n",
    "\n",
    "print(\"Output Train Class Counts:\")\n",
    "print(output_train_counts)\n",
    "\n",
    "print(\"\\nOutput Test Class Counts:\")\n",
    "print(output_test_counts)"
   ]
  },
  {
   "cell_type": "code",
   "execution_count": 37,
   "metadata": {},
   "outputs": [
    {
     "data": {
      "text/plain": [
       "TT4                47\n",
       "FTI                77\n",
       "T3                150\n",
       "TSH                76\n",
       "T4U                77\n",
       "pregnant            0\n",
       "I131 treatment      0\n",
       "binaryClass         0\n",
       "dtype: int64"
      ]
     },
     "execution_count": 37,
     "metadata": {},
     "output_type": "execute_result"
    }
   ],
   "source": [
    "input_test= pd.DataFrame(input_test)\n",
    "input_test['binaryClass'] = output_test\n",
    "input_test[input_test=='?'].count()\n"
   ]
  },
  {
   "cell_type": "code",
   "execution_count": 39,
   "metadata": {},
   "outputs": [],
   "source": [
    "input_test = input_test.replace('?', pd.NA).dropna()"
   ]
  },
  {
   "cell_type": "code",
   "execution_count": 40,
   "metadata": {},
   "outputs": [
    {
     "data": {
      "text/plain": [
       "TT4               0\n",
       "FTI               0\n",
       "T3                0\n",
       "TSH               0\n",
       "T4U               0\n",
       "pregnant          0\n",
       "I131 treatment    0\n",
       "binaryClass       0\n",
       "dtype: int64"
      ]
     },
     "execution_count": 40,
     "metadata": {},
     "output_type": "execute_result"
    }
   ],
   "source": [
    "input_test[input_test=='?'].count()"
   ]
  },
  {
   "cell_type": "code",
   "execution_count": 41,
   "metadata": {},
   "outputs": [
    {
     "name": "stdout",
     "output_type": "stream",
     "text": [
      "<class 'pandas.core.frame.DataFrame'>\n",
      "Index: 552 entries, 3173 to 3372\n",
      "Data columns (total 8 columns):\n",
      " #   Column          Non-Null Count  Dtype \n",
      "---  ------          --------------  ----- \n",
      " 0   TT4             552 non-null    object\n",
      " 1   FTI             552 non-null    object\n",
      " 2   T3              552 non-null    object\n",
      " 3   TSH             552 non-null    object\n",
      " 4   T4U             552 non-null    object\n",
      " 5   pregnant        552 non-null    object\n",
      " 6   I131 treatment  552 non-null    object\n",
      " 7   binaryClass     552 non-null    object\n",
      "dtypes: object(8)\n",
      "memory usage: 38.8+ KB\n"
     ]
    }
   ],
   "source": [
    "input_test.info()"
   ]
  },
  {
   "cell_type": "code",
   "execution_count": 42,
   "metadata": {},
   "outputs": [
    {
     "data": {
      "text/plain": [
       "binaryClass\n",
       "P    512\n",
       "N     40\n",
       "Name: count, dtype: int64"
      ]
     },
     "execution_count": 42,
     "metadata": {},
     "output_type": "execute_result"
    }
   ],
   "source": [
    "input_test['binaryClass'].value_counts()"
   ]
  },
  {
   "cell_type": "code",
   "execution_count": 43,
   "metadata": {},
   "outputs": [],
   "source": [
    "input_test.to_csv('data/input_test.csv', index=False)"
   ]
  },
  {
   "cell_type": "code",
   "execution_count": 44,
   "metadata": {},
   "outputs": [],
   "source": [
    "input_train['binaryClass'] = output_train\n",
    "input_train.to_csv('data/input_train.csv', index=False)"
   ]
  }
 ],
 "metadata": {
  "kernelspec": {
   "display_name": "cilab",
   "language": "python",
   "name": "python3"
  },
  "language_info": {
   "codemirror_mode": {
    "name": "ipython",
    "version": 3
   },
   "file_extension": ".py",
   "mimetype": "text/x-python",
   "name": "python",
   "nbconvert_exporter": "python",
   "pygments_lexer": "ipython3",
   "version": "3.10.13"
  }
 },
 "nbformat": 4,
 "nbformat_minor": 2
}
